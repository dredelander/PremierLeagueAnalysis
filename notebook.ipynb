{
 "cells": [
  {
   "cell_type": "code",
   "execution_count": 2,
   "metadata": {},
   "outputs": [],
   "source": [
    "import pandas as pd"
   ]
  },
  {
   "cell_type": "code",
   "execution_count": 152,
   "metadata": {},
   "outputs": [
    {
     "name": "stderr",
     "output_type": "stream",
     "text": [
      "/var/folders/_q/my1ch2lx51s2dwm02xw2zh4r0000gn/T/ipykernel_65801/2095756494.py:1: DtypeWarning: Columns (25,108) have mixed types. Specify dtype option on import or set low_memory=False.\n",
      "  players_df = pd.read_csv('./data/players_22.csv')\n"
     ]
    }
   ],
   "source": [
    "players_df = pd.read_csv('./data/players_22.csv')\n"
   ]
  },
  {
   "cell_type": "code",
   "execution_count": 179,
   "metadata": {},
   "outputs": [],
   "source": [
    "sec_players_df = pd.read_csv('./data/players_fifa23.csv')"
   ]
  },
  {
   "cell_type": "code",
   "execution_count": 180,
   "metadata": {},
   "outputs": [
    {
     "name": "stdout",
     "output_type": "stream",
     "text": [
      "['ID', 'Name', 'FullName', 'Age', 'Height', 'Weight', 'PhotoUrl', 'Nationality', 'Overall', 'Potential', 'Growth', 'TotalStats', 'BaseStats', 'Positions', 'BestPosition', 'Club', 'ValueEUR', 'WageEUR', 'ReleaseClause', 'ClubPosition', 'ContractUntil', 'ClubNumber', 'ClubJoined', 'OnLoad', 'NationalTeam', 'NationalPosition', 'NationalNumber', 'PreferredFoot', 'IntReputation', 'WeakFoot', 'SkillMoves', 'AttackingWorkRate', 'DefensiveWorkRate', 'PaceTotal', 'ShootingTotal', 'PassingTotal', 'DribblingTotal', 'DefendingTotal', 'PhysicalityTotal', 'Crossing', 'Finishing', 'HeadingAccuracy', 'ShortPassing', 'Volleys', 'Dribbling', 'Curve', 'FKAccuracy', 'LongPassing', 'BallControl', 'Acceleration', 'SprintSpeed', 'Agility', 'Reactions', 'Balance', 'ShotPower', 'Jumping', 'Stamina', 'Strength', 'LongShots', 'Aggression', 'Interceptions', 'Positioning', 'Vision', 'Penalties', 'Composure', 'Marking', 'StandingTackle', 'SlidingTackle', 'GKDiving', 'GKHandling', 'GKKicking', 'GKPositioning', 'GKReflexes', 'STRating', 'LWRating', 'LFRating', 'CFRating', 'RFRating', 'RWRating', 'CAMRating', 'LMRating', 'CMRating', 'RMRating', 'LWBRating', 'CDMRating', 'RWBRating', 'LBRating', 'CBRating', 'RBRating', 'GKRating']\n"
     ]
    }
   ],
   "source": [
    "print(list(sec_players_df.columns))"
   ]
  },
  {
   "cell_type": "code",
   "execution_count": 154,
   "metadata": {},
   "outputs": [],
   "source": [
    "players_short_df = players_df[['short_name', 'club_name','player_positions','overall','value_eur','age','international_reputation','nationality_name']]\n",
    "# players_df.loc[players_df['club_name'].str.contains('Liverpool')== True]"
   ]
  },
  {
   "cell_type": "code",
   "execution_count": 182,
   "metadata": {},
   "outputs": [],
   "source": [
    "players_short_df = sec_players_df[['FullName', 'Club','BestPosition','Overall','ValueEUR','Age','IntReputation','NationalTeam']]"
   ]
  },
  {
   "cell_type": "code",
   "execution_count": 183,
   "metadata": {},
   "outputs": [
    {
     "data": {
      "text/html": [
       "<div>\n",
       "<style scoped>\n",
       "    .dataframe tbody tr th:only-of-type {\n",
       "        vertical-align: middle;\n",
       "    }\n",
       "\n",
       "    .dataframe tbody tr th {\n",
       "        vertical-align: top;\n",
       "    }\n",
       "\n",
       "    .dataframe thead th {\n",
       "        text-align: right;\n",
       "    }\n",
       "</style>\n",
       "<table border=\"1\" class=\"dataframe\">\n",
       "  <thead>\n",
       "    <tr style=\"text-align: right;\">\n",
       "      <th></th>\n",
       "      <th>FullName</th>\n",
       "      <th>Club</th>\n",
       "      <th>BestPosition</th>\n",
       "      <th>Overall</th>\n",
       "      <th>ValueEUR</th>\n",
       "      <th>Age</th>\n",
       "      <th>IntReputation</th>\n",
       "      <th>NationalTeam</th>\n",
       "    </tr>\n",
       "  </thead>\n",
       "  <tbody>\n",
       "    <tr>\n",
       "      <th>0</th>\n",
       "      <td>Lionel Messi</td>\n",
       "      <td>Paris Saint-Germain</td>\n",
       "      <td>CAM</td>\n",
       "      <td>91</td>\n",
       "      <td>54000000</td>\n",
       "      <td>35</td>\n",
       "      <td>5</td>\n",
       "      <td>Argentina</td>\n",
       "    </tr>\n",
       "    <tr>\n",
       "      <th>1</th>\n",
       "      <td>Karim Benzema</td>\n",
       "      <td>Real Madrid CF</td>\n",
       "      <td>CF</td>\n",
       "      <td>91</td>\n",
       "      <td>64000000</td>\n",
       "      <td>34</td>\n",
       "      <td>4</td>\n",
       "      <td>France</td>\n",
       "    </tr>\n",
       "    <tr>\n",
       "      <th>2</th>\n",
       "      <td>Robert Lewandowski</td>\n",
       "      <td>FC Barcelona</td>\n",
       "      <td>ST</td>\n",
       "      <td>91</td>\n",
       "      <td>84000000</td>\n",
       "      <td>33</td>\n",
       "      <td>5</td>\n",
       "      <td>Poland</td>\n",
       "    </tr>\n",
       "    <tr>\n",
       "      <th>3</th>\n",
       "      <td>Kevin De Bruyne</td>\n",
       "      <td>Manchester City</td>\n",
       "      <td>CM</td>\n",
       "      <td>91</td>\n",
       "      <td>107500000</td>\n",
       "      <td>31</td>\n",
       "      <td>4</td>\n",
       "      <td>Belgium</td>\n",
       "    </tr>\n",
       "    <tr>\n",
       "      <th>4</th>\n",
       "      <td>Kylian Mbappé</td>\n",
       "      <td>Paris Saint-Germain</td>\n",
       "      <td>ST</td>\n",
       "      <td>91</td>\n",
       "      <td>190500000</td>\n",
       "      <td>23</td>\n",
       "      <td>4</td>\n",
       "      <td>France</td>\n",
       "    </tr>\n",
       "    <tr>\n",
       "      <th>...</th>\n",
       "      <td>...</td>\n",
       "      <td>...</td>\n",
       "      <td>...</td>\n",
       "      <td>...</td>\n",
       "      <td>...</td>\n",
       "      <td>...</td>\n",
       "      <td>...</td>\n",
       "      <td>...</td>\n",
       "    </tr>\n",
       "    <tr>\n",
       "      <th>18534</th>\n",
       "      <td>Darren Collins</td>\n",
       "      <td>Sligo Rovers</td>\n",
       "      <td>CAM</td>\n",
       "      <td>47</td>\n",
       "      <td>110000</td>\n",
       "      <td>21</td>\n",
       "      <td>1</td>\n",
       "      <td>Not in team</td>\n",
       "    </tr>\n",
       "    <tr>\n",
       "      <th>18535</th>\n",
       "      <td>Dejiang Yang</td>\n",
       "      <td>Guangzhou FC</td>\n",
       "      <td>CDM</td>\n",
       "      <td>47</td>\n",
       "      <td>90000</td>\n",
       "      <td>17</td>\n",
       "      <td>1</td>\n",
       "      <td>Not in team</td>\n",
       "    </tr>\n",
       "    <tr>\n",
       "      <th>18536</th>\n",
       "      <td>Liam Mullan</td>\n",
       "      <td>Derry City</td>\n",
       "      <td>RM</td>\n",
       "      <td>47</td>\n",
       "      <td>130000</td>\n",
       "      <td>18</td>\n",
       "      <td>1</td>\n",
       "      <td>Not in team</td>\n",
       "    </tr>\n",
       "    <tr>\n",
       "      <th>18537</th>\n",
       "      <td>Daithí McCallion</td>\n",
       "      <td>Derry City</td>\n",
       "      <td>CB</td>\n",
       "      <td>47</td>\n",
       "      <td>100000</td>\n",
       "      <td>17</td>\n",
       "      <td>1</td>\n",
       "      <td>Not in team</td>\n",
       "    </tr>\n",
       "    <tr>\n",
       "      <th>18538</th>\n",
       "      <td>Nabin Rabha</td>\n",
       "      <td>NorthEast United FC</td>\n",
       "      <td>LB</td>\n",
       "      <td>47</td>\n",
       "      <td>60000</td>\n",
       "      <td>25</td>\n",
       "      <td>1</td>\n",
       "      <td>Not in team</td>\n",
       "    </tr>\n",
       "  </tbody>\n",
       "</table>\n",
       "<p>18539 rows × 8 columns</p>\n",
       "</div>"
      ],
      "text/plain": [
       "                 FullName                 Club BestPosition  Overall  \\\n",
       "0            Lionel Messi  Paris Saint-Germain          CAM       91   \n",
       "1           Karim Benzema       Real Madrid CF           CF       91   \n",
       "2      Robert Lewandowski         FC Barcelona           ST       91   \n",
       "3         Kevin De Bruyne      Manchester City           CM       91   \n",
       "4           Kylian Mbappé  Paris Saint-Germain           ST       91   \n",
       "...                   ...                  ...          ...      ...   \n",
       "18534      Darren Collins         Sligo Rovers          CAM       47   \n",
       "18535        Dejiang Yang         Guangzhou FC          CDM       47   \n",
       "18536         Liam Mullan           Derry City           RM       47   \n",
       "18537    Daithí McCallion           Derry City           CB       47   \n",
       "18538         Nabin Rabha  NorthEast United FC           LB       47   \n",
       "\n",
       "        ValueEUR  Age  IntReputation NationalTeam  \n",
       "0       54000000   35              5    Argentina  \n",
       "1       64000000   34              4       France  \n",
       "2       84000000   33              5       Poland  \n",
       "3      107500000   31              4      Belgium  \n",
       "4      190500000   23              4       France  \n",
       "...          ...  ...            ...          ...  \n",
       "18534     110000   21              1  Not in team  \n",
       "18535      90000   17              1  Not in team  \n",
       "18536     130000   18              1  Not in team  \n",
       "18537     100000   17              1  Not in team  \n",
       "18538      60000   25              1  Not in team  \n",
       "\n",
       "[18539 rows x 8 columns]"
      ]
     },
     "execution_count": 183,
     "metadata": {},
     "output_type": "execute_result"
    }
   ],
   "source": [
    "players_short_df"
   ]
  },
  {
   "cell_type": "code",
   "execution_count": 184,
   "metadata": {},
   "outputs": [],
   "source": [
    "def get_team_df(name):\n",
    "    team_df =players_short_df.loc[players_short_df['Club'].str.contains(name)== True]\n",
    "    return team_df"
   ]
  },
  {
   "cell_type": "code",
   "execution_count": 192,
   "metadata": {},
   "outputs": [],
   "source": [
    "team = get_team_df('Manchester United')"
   ]
  },
  {
   "cell_type": "code",
   "execution_count": 194,
   "metadata": {},
   "outputs": [
    {
     "data": {
      "text/plain": [
       "520000000"
      ]
     },
     "execution_count": 194,
     "metadata": {},
     "output_type": "execute_result"
    }
   ],
   "source": [
    "team.sort_values(by='ValueEUR', ascending =False).head(11)['ValueEUR'].sum()"
   ]
  },
  {
   "cell_type": "code",
   "execution_count": 202,
   "metadata": {},
   "outputs": [],
   "source": [
    "def get_team_fifa_info(team):\n",
    "    team_df = get_team_df(team)\n",
    "    top_player = team_df.sort_values(by='Overall', ascending =False).head(1)\n",
    "    avg_overall = round(team_df.head(16)['Overall'].mean(),2)\n",
    "    top_3_int_players = team_df.sort_values(by='IntReputation', ascending =False).head(3)\n",
    "    top16_value = \"${:,.2f}\".format(round(team_df.sort_values(by='ValueEUR', ascending =False).head(16)['ValueEUR'].sum(),2))\n",
    "\n",
    "    return top_player, avg_overall,top_3_int_players, top16_value\n",
    "    "
   ]
  },
  {
   "cell_type": "code",
   "execution_count": 203,
   "metadata": {},
   "outputs": [],
   "source": [
    "top_player, avg_overall,top_3_int_players, top16_value = get_team_fifa_info('Manchester United')"
   ]
  },
  {
   "cell_type": "code",
   "execution_count": 204,
   "metadata": {},
   "outputs": [
    {
     "data": {
      "text/plain": [
       "'$647,500,000.00'"
      ]
     },
     "execution_count": 204,
     "metadata": {},
     "output_type": "execute_result"
    }
   ],
   "source": [
    "top16_value"
   ]
  },
  {
   "cell_type": "code",
   "execution_count": 135,
   "metadata": {},
   "outputs": [],
   "source": [
    "def get_team_logo(team_name):\n",
    "    team_logo = players_df.loc[players_df['club_name'].str.contains(team_name)== True].head(1)['club_logo_url'].values[0]\n",
    "    return team_logo"
   ]
  },
  {
   "cell_type": "code",
   "execution_count": 136,
   "metadata": {},
   "outputs": [
    {
     "data": {
      "text/plain": [
       "'https://cdn.sofifa.net/teams/10/60.png'"
      ]
     },
     "execution_count": 136,
     "metadata": {},
     "output_type": "execute_result"
    }
   ],
   "source": [
    "get_team_logo('Manchester City')"
   ]
  },
  {
   "cell_type": "code",
   "execution_count": 36,
   "metadata": {},
   "outputs": [],
   "source": [
    "import requests"
   ]
  },
  {
   "cell_type": "code",
   "execution_count": 86,
   "metadata": {},
   "outputs": [],
   "source": [
    "FD_API_KEY = '6fd1bfed8d114b0eac4a50ef49c70e0b'\n",
    "EPL_TEAMS_URL = 'http://api.football-data.org/v4/competitions/PL/teams'\n",
    "EPL_TOP_SCORERS_URL ='http://api.football-data.org/v4/competitions/PL/scorers'\n"
   ]
  },
  {
   "cell_type": "code",
   "execution_count": 58,
   "metadata": {},
   "outputs": [],
   "source": [
    "def get_football_data(url_link, api_key):\n",
    "    sports_response = requests.get(\n",
    "            url_link, \n",
    "            headers={\n",
    "                'X-Auth-Token': api_key,        \n",
    "            }\n",
    "        )\n",
    "    if sports_response.status_code != 200:\n",
    "            return({'message':f'Failed to get sports data: status_code {sports_response.status_code}, response body {sports_response.text}'})\n",
    "\n",
    "    else:\n",
    "            all_odds = sports_response.json()\n",
    "            return(all_odds)"
   ]
  },
  {
   "cell_type": "code",
   "execution_count": 59,
   "metadata": {},
   "outputs": [],
   "source": [
    "top_epl_scorers = get_football_data(EPL_TOP_SCORERS_URL, FD_API_KEY)\n",
    "players_top_ten=[]\n",
    "teams_tops_scorers =[]\n",
    "number_goals =[]\n",
    "number_assists=[]\n",
    "for player in top_epl_scorers['scorers']:\n",
    "    print(player['assists'])\n",
    "    players_top_ten.append((player['player']['name']))\n",
    "    teams_tops_scorers.append((player['team']['name']))\n",
    "    number_goals.append(player['goals'])\n",
    "    number_assists.append(player['assists'])\n",
    "dic_top_epl_scorers = {'Player Name': players_top_ten,'Team': teams_tops_scorers, 'Goals':number_goals,'Assists':number_assists}\n",
    "top_epl_scorers_df = pd.DataFrame(dic_top_epl_scorers)\n",
    "top_epl_scorers_df.set_index('Player Name')"
   ]
  },
  {
   "cell_type": "code",
   "execution_count": 84,
   "metadata": {},
   "outputs": [],
   "source": [
    "FD_EPL_STANDINGS_URL=\"https://api.football-data.org/v4/competitions/PL/standings\""
   ]
  },
  {
   "cell_type": "code",
   "execution_count": 100,
   "metadata": {},
   "outputs": [],
   "source": [
    "def get_epl_standings_df():\n",
    "    epl_standings = get_football_data(FD_EPL_STANDINGS_URL, FD_API_KEY)\n",
    "    team_names =[]\n",
    "    team_points=[]\n",
    "    team_played_count =[]\n",
    "    team_form =[]\n",
    "    team_goal_dif =[]\n",
    "    for position in epl_standings['standings'][0]['table']:\n",
    "        team_names.append(position['team']['name'])\n",
    "        team_played_count.append(position['playedGames'])\n",
    "        team_points.append(position['points'])\n",
    "        team_form.append(position['form'])\n",
    "        team_goal_dif.append(position['goalDifference'])\n",
    "    dic_epl_table ={'Team':team_names,'Points':team_points,'Games Played':team_played_count,'Form':team_form, 'Goal Difference':team_goal_dif}\n",
    "    epl_table_df = pd.DataFrame(dic_epl_table)\n",
    "    return epl_table_df"
   ]
  },
  {
   "cell_type": "code",
   "execution_count": null,
   "metadata": {},
   "outputs": [],
   "source": []
  }
 ],
 "metadata": {
  "kernelspec": {
   "display_name": "Python 3.10.2 ('env': venv)",
   "language": "python",
   "name": "python3"
  },
  "language_info": {
   "codemirror_mode": {
    "name": "ipython",
    "version": 3
   },
   "file_extension": ".py",
   "mimetype": "text/x-python",
   "name": "python",
   "nbconvert_exporter": "python",
   "pygments_lexer": "ipython3",
   "version": "3.10.2"
  },
  "orig_nbformat": 4,
  "vscode": {
   "interpreter": {
    "hash": "0ec061fab6744220b6acd3d3d7b14abdf930d271b7dd1f55c1ad1638ce38c62a"
   }
  }
 },
 "nbformat": 4,
 "nbformat_minor": 2
}
