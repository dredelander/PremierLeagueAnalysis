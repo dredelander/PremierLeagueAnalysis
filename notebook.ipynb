{
 "cells": [
  {
   "cell_type": "code",
   "execution_count": 6,
   "metadata": {},
   "outputs": [],
   "source": [
    "import pandas as pd\n",
    "import requests"
   ]
  },
  {
   "cell_type": "code",
   "execution_count": 213,
   "metadata": {},
   "outputs": [
    {
     "name": "stderr",
     "output_type": "stream",
     "text": [
      "/var/folders/_q/my1ch2lx51s2dwm02xw2zh4r0000gn/T/ipykernel_65801/441374650.py:1: DtypeWarning: Columns (25,108) have mixed types. Specify dtype option on import or set low_memory=False.\n",
      "  players_df = pd.read_csv('./data/players_22.csv')\n"
     ]
    }
   ],
   "source": [
    "players_df = pd.read_csv('./data/players_22.csv')\n"
   ]
  },
  {
   "cell_type": "code",
   "execution_count": 13,
   "metadata": {},
   "outputs": [],
   "source": [
    "sec_players_df = pd.read_csv('./data/players_fifa23.csv')"
   ]
  },
  {
   "cell_type": "code",
   "execution_count": 214,
   "metadata": {},
   "outputs": [
    {
     "name": "stdout",
     "output_type": "stream",
     "text": [
      "['sofifa_id', 'player_url', 'short_name', 'long_name', 'player_positions', 'overall', 'potential', 'value_eur', 'wage_eur', 'age', 'dob', 'height_cm', 'weight_kg', 'club_team_id', 'club_name', 'league_name', 'league_level', 'club_position', 'club_jersey_number', 'club_loaned_from', 'club_joined', 'club_contract_valid_until', 'nationality_id', 'nationality_name', 'nation_team_id', 'nation_position', 'nation_jersey_number', 'preferred_foot', 'weak_foot', 'skill_moves', 'international_reputation', 'work_rate', 'body_type', 'real_face', 'release_clause_eur', 'player_tags', 'player_traits', 'pace', 'shooting', 'passing', 'dribbling', 'defending', 'physic', 'attacking_crossing', 'attacking_finishing', 'attacking_heading_accuracy', 'attacking_short_passing', 'attacking_volleys', 'skill_dribbling', 'skill_curve', 'skill_fk_accuracy', 'skill_long_passing', 'skill_ball_control', 'movement_acceleration', 'movement_sprint_speed', 'movement_agility', 'movement_reactions', 'movement_balance', 'power_shot_power', 'power_jumping', 'power_stamina', 'power_strength', 'power_long_shots', 'mentality_aggression', 'mentality_interceptions', 'mentality_positioning', 'mentality_vision', 'mentality_penalties', 'mentality_composure', 'defending_marking_awareness', 'defending_standing_tackle', 'defending_sliding_tackle', 'goalkeeping_diving', 'goalkeeping_handling', 'goalkeeping_kicking', 'goalkeeping_positioning', 'goalkeeping_reflexes', 'goalkeeping_speed', 'ls', 'st', 'rs', 'lw', 'lf', 'cf', 'rf', 'rw', 'lam', 'cam', 'ram', 'lm', 'lcm', 'cm', 'rcm', 'rm', 'lwb', 'ldm', 'cdm', 'rdm', 'rwb', 'lb', 'lcb', 'cb', 'rcb', 'rb', 'gk', 'player_face_url', 'club_logo_url', 'club_flag_url', 'nation_logo_url', 'nation_flag_url']\n"
     ]
    }
   ],
   "source": [
    "print(list(players_df.columns))"
   ]
  },
  {
   "cell_type": "code",
   "execution_count": 12,
   "metadata": {},
   "outputs": [
    {
     "ename": "NameError",
     "evalue": "name 'players_df' is not defined",
     "output_type": "error",
     "traceback": [
      "\u001b[0;31m---------------------------------------------------------------------------\u001b[0m",
      "\u001b[0;31mNameError\u001b[0m                                 Traceback (most recent call last)",
      "Cell \u001b[0;32mIn [12], line 1\u001b[0m\n\u001b[0;32m----> 1\u001b[0m players_short_df \u001b[39m=\u001b[39m players_df[[\u001b[39m'\u001b[39m\u001b[39mshort_name\u001b[39m\u001b[39m'\u001b[39m, \u001b[39m'\u001b[39m\u001b[39mclub_name\u001b[39m\u001b[39m'\u001b[39m,\u001b[39m'\u001b[39m\u001b[39mplayer_positions\u001b[39m\u001b[39m'\u001b[39m,\u001b[39m'\u001b[39m\u001b[39moverall\u001b[39m\u001b[39m'\u001b[39m,\u001b[39m'\u001b[39m\u001b[39mvalue_eur\u001b[39m\u001b[39m'\u001b[39m,\u001b[39m'\u001b[39m\u001b[39mage\u001b[39m\u001b[39m'\u001b[39m,\u001b[39m'\u001b[39m\u001b[39minternational_reputation\u001b[39m\u001b[39m'\u001b[39m,\u001b[39m'\u001b[39m\u001b[39mnationality_name\u001b[39m\u001b[39m'\u001b[39m]]\n\u001b[1;32m      2\u001b[0m \u001b[39m# players_df.loc[players_df['club_name'].str.contains('Liverpool')== True]\u001b[39;00m\n",
      "\u001b[0;31mNameError\u001b[0m: name 'players_df' is not defined"
     ]
    }
   ],
   "source": [
    "players_short_df = players_df[['short_name', 'club_name','player_positions','overall','value_eur','age','international_reputation','nationality_name']]\n",
    "# players_df.loc[players_df['club_name'].str.contains('Liverpool')== True]"
   ]
  },
  {
   "cell_type": "code",
   "execution_count": 14,
   "metadata": {},
   "outputs": [],
   "source": [
    "players_short_df = sec_players_df[['FullName', 'Club','BestPosition','Overall','ValueEUR','Age','IntReputation','NationalTeam']]"
   ]
  },
  {
   "cell_type": "code",
   "execution_count": 183,
   "metadata": {},
   "outputs": [
    {
     "data": {
      "text/html": [
       "<div>\n",
       "<style scoped>\n",
       "    .dataframe tbody tr th:only-of-type {\n",
       "        vertical-align: middle;\n",
       "    }\n",
       "\n",
       "    .dataframe tbody tr th {\n",
       "        vertical-align: top;\n",
       "    }\n",
       "\n",
       "    .dataframe thead th {\n",
       "        text-align: right;\n",
       "    }\n",
       "</style>\n",
       "<table border=\"1\" class=\"dataframe\">\n",
       "  <thead>\n",
       "    <tr style=\"text-align: right;\">\n",
       "      <th></th>\n",
       "      <th>FullName</th>\n",
       "      <th>Club</th>\n",
       "      <th>BestPosition</th>\n",
       "      <th>Overall</th>\n",
       "      <th>ValueEUR</th>\n",
       "      <th>Age</th>\n",
       "      <th>IntReputation</th>\n",
       "      <th>NationalTeam</th>\n",
       "    </tr>\n",
       "  </thead>\n",
       "  <tbody>\n",
       "    <tr>\n",
       "      <th>0</th>\n",
       "      <td>Lionel Messi</td>\n",
       "      <td>Paris Saint-Germain</td>\n",
       "      <td>CAM</td>\n",
       "      <td>91</td>\n",
       "      <td>54000000</td>\n",
       "      <td>35</td>\n",
       "      <td>5</td>\n",
       "      <td>Argentina</td>\n",
       "    </tr>\n",
       "    <tr>\n",
       "      <th>1</th>\n",
       "      <td>Karim Benzema</td>\n",
       "      <td>Real Madrid CF</td>\n",
       "      <td>CF</td>\n",
       "      <td>91</td>\n",
       "      <td>64000000</td>\n",
       "      <td>34</td>\n",
       "      <td>4</td>\n",
       "      <td>France</td>\n",
       "    </tr>\n",
       "    <tr>\n",
       "      <th>2</th>\n",
       "      <td>Robert Lewandowski</td>\n",
       "      <td>FC Barcelona</td>\n",
       "      <td>ST</td>\n",
       "      <td>91</td>\n",
       "      <td>84000000</td>\n",
       "      <td>33</td>\n",
       "      <td>5</td>\n",
       "      <td>Poland</td>\n",
       "    </tr>\n",
       "    <tr>\n",
       "      <th>3</th>\n",
       "      <td>Kevin De Bruyne</td>\n",
       "      <td>Manchester City</td>\n",
       "      <td>CM</td>\n",
       "      <td>91</td>\n",
       "      <td>107500000</td>\n",
       "      <td>31</td>\n",
       "      <td>4</td>\n",
       "      <td>Belgium</td>\n",
       "    </tr>\n",
       "    <tr>\n",
       "      <th>4</th>\n",
       "      <td>Kylian Mbappé</td>\n",
       "      <td>Paris Saint-Germain</td>\n",
       "      <td>ST</td>\n",
       "      <td>91</td>\n",
       "      <td>190500000</td>\n",
       "      <td>23</td>\n",
       "      <td>4</td>\n",
       "      <td>France</td>\n",
       "    </tr>\n",
       "    <tr>\n",
       "      <th>...</th>\n",
       "      <td>...</td>\n",
       "      <td>...</td>\n",
       "      <td>...</td>\n",
       "      <td>...</td>\n",
       "      <td>...</td>\n",
       "      <td>...</td>\n",
       "      <td>...</td>\n",
       "      <td>...</td>\n",
       "    </tr>\n",
       "    <tr>\n",
       "      <th>18534</th>\n",
       "      <td>Darren Collins</td>\n",
       "      <td>Sligo Rovers</td>\n",
       "      <td>CAM</td>\n",
       "      <td>47</td>\n",
       "      <td>110000</td>\n",
       "      <td>21</td>\n",
       "      <td>1</td>\n",
       "      <td>Not in team</td>\n",
       "    </tr>\n",
       "    <tr>\n",
       "      <th>18535</th>\n",
       "      <td>Dejiang Yang</td>\n",
       "      <td>Guangzhou FC</td>\n",
       "      <td>CDM</td>\n",
       "      <td>47</td>\n",
       "      <td>90000</td>\n",
       "      <td>17</td>\n",
       "      <td>1</td>\n",
       "      <td>Not in team</td>\n",
       "    </tr>\n",
       "    <tr>\n",
       "      <th>18536</th>\n",
       "      <td>Liam Mullan</td>\n",
       "      <td>Derry City</td>\n",
       "      <td>RM</td>\n",
       "      <td>47</td>\n",
       "      <td>130000</td>\n",
       "      <td>18</td>\n",
       "      <td>1</td>\n",
       "      <td>Not in team</td>\n",
       "    </tr>\n",
       "    <tr>\n",
       "      <th>18537</th>\n",
       "      <td>Daithí McCallion</td>\n",
       "      <td>Derry City</td>\n",
       "      <td>CB</td>\n",
       "      <td>47</td>\n",
       "      <td>100000</td>\n",
       "      <td>17</td>\n",
       "      <td>1</td>\n",
       "      <td>Not in team</td>\n",
       "    </tr>\n",
       "    <tr>\n",
       "      <th>18538</th>\n",
       "      <td>Nabin Rabha</td>\n",
       "      <td>NorthEast United FC</td>\n",
       "      <td>LB</td>\n",
       "      <td>47</td>\n",
       "      <td>60000</td>\n",
       "      <td>25</td>\n",
       "      <td>1</td>\n",
       "      <td>Not in team</td>\n",
       "    </tr>\n",
       "  </tbody>\n",
       "</table>\n",
       "<p>18539 rows × 8 columns</p>\n",
       "</div>"
      ],
      "text/plain": [
       "                 FullName                 Club BestPosition  Overall  \\\n",
       "0            Lionel Messi  Paris Saint-Germain          CAM       91   \n",
       "1           Karim Benzema       Real Madrid CF           CF       91   \n",
       "2      Robert Lewandowski         FC Barcelona           ST       91   \n",
       "3         Kevin De Bruyne      Manchester City           CM       91   \n",
       "4           Kylian Mbappé  Paris Saint-Germain           ST       91   \n",
       "...                   ...                  ...          ...      ...   \n",
       "18534      Darren Collins         Sligo Rovers          CAM       47   \n",
       "18535        Dejiang Yang         Guangzhou FC          CDM       47   \n",
       "18536         Liam Mullan           Derry City           RM       47   \n",
       "18537    Daithí McCallion           Derry City           CB       47   \n",
       "18538         Nabin Rabha  NorthEast United FC           LB       47   \n",
       "\n",
       "        ValueEUR  Age  IntReputation NationalTeam  \n",
       "0       54000000   35              5    Argentina  \n",
       "1       64000000   34              4       France  \n",
       "2       84000000   33              5       Poland  \n",
       "3      107500000   31              4      Belgium  \n",
       "4      190500000   23              4       France  \n",
       "...          ...  ...            ...          ...  \n",
       "18534     110000   21              1  Not in team  \n",
       "18535      90000   17              1  Not in team  \n",
       "18536     130000   18              1  Not in team  \n",
       "18537     100000   17              1  Not in team  \n",
       "18538      60000   25              1  Not in team  \n",
       "\n",
       "[18539 rows x 8 columns]"
      ]
     },
     "execution_count": 183,
     "metadata": {},
     "output_type": "execute_result"
    }
   ],
   "source": [
    "players_short_df"
   ]
  },
  {
   "cell_type": "code",
   "execution_count": 184,
   "metadata": {},
   "outputs": [],
   "source": [
    "def get_team_df(name):\n",
    "    team_df =players_short_df.loc[players_short_df['Club'].str.contains(name)== True]\n",
    "    return team_df"
   ]
  },
  {
   "cell_type": "code",
   "execution_count": 15,
   "metadata": {},
   "outputs": [],
   "source": [
    "def get_wc_team_df(name):\n",
    "    team_df =players_short_df.loc[players_short_df['NationalTeam'].str.contains(name)== True]\n",
    "    return team_df"
   ]
  },
  {
   "cell_type": "code",
   "execution_count": 27,
   "metadata": {},
   "outputs": [],
   "source": [
    "team = get_wc_team_df('Brazil')"
   ]
  },
  {
   "cell_type": "code",
   "execution_count": 29,
   "metadata": {},
   "outputs": [],
   "source": [
    "fifa_df= pd.read_csv('./data/fifa_results.csv')"
   ]
  },
  {
   "cell_type": "code",
   "execution_count": 91,
   "metadata": {},
   "outputs": [],
   "source": [
    "def get_past_results(team1,team2):\n",
    "    df = fifa_df.loc[((fifa_df['home_team'].str.contains(team1)== True )& (fifa_df['away_team'].str.contains(team2)== True)) | ((fifa_df['away_team'].str.contains(team1)== True )& (fifa_df['home_team'].str.contains(team2)== True))]\n",
    "    team_1_home_wins = fifa_df.loc[((fifa_df['home_team'].str.contains(team1)== True )& (fifa_df['away_team'].str.contains(team2)== True)) & (fifa_df['home_score'] > fifa_df['away_score'])]\n",
    "    team_1_away_wins = fifa_df.loc[((fifa_df['away_team'].str.contains(team1)== True )& (fifa_df['home_team'].str.contains(team2)== True)) & (fifa_df['home_score'] < fifa_df['away_score'])]\n",
    "    ties = fifa_df.loc[(((fifa_df['home_team'].str.contains(team1)== True )& (fifa_df['away_team'].str.contains(team2)== True)) | ((fifa_df['away_team'].str.contains(team1)== True )& (fifa_df['home_team'].str.contains(team2)== True)))& (fifa_df['home_score'] == fifa_df['away_score'])]\n",
    "    num_ties = len(ties)\n",
    "    tt_wins_team1 = len(team_1_away_wins) + len(team_1_home_wins)\n",
    "    tt_loss_team1 = len(df) - tt_wins_team1 - num_ties\n",
    "    num_games=len(df)\n",
    "    if len(df) >0:\n",
    "        df = df.sort_values('date', ascending =False)\n",
    "        df.set_index('date', inplace=True)\n",
    "        return df, tt_wins_team1, tt_loss_team1 , num_ties, num_games\n",
    "    else:\n",
    "        return 'Not historical match history available'"
   ]
  },
  {
   "cell_type": "code",
   "execution_count": 92,
   "metadata": {},
   "outputs": [],
   "source": [
    "hist_df, tt_wins, tt_loss, ties, games = get_past_results('Ecuador', 'Qatar')"
   ]
  },
  {
   "cell_type": "code",
   "execution_count": 93,
   "metadata": {},
   "outputs": [
    {
     "data": {
      "text/html": [
       "<div>\n",
       "<style scoped>\n",
       "    .dataframe tbody tr th:only-of-type {\n",
       "        vertical-align: middle;\n",
       "    }\n",
       "\n",
       "    .dataframe tbody tr th {\n",
       "        vertical-align: top;\n",
       "    }\n",
       "\n",
       "    .dataframe thead th {\n",
       "        text-align: right;\n",
       "    }\n",
       "</style>\n",
       "<table border=\"1\" class=\"dataframe\">\n",
       "  <thead>\n",
       "    <tr style=\"text-align: right;\">\n",
       "      <th></th>\n",
       "      <th>home_team</th>\n",
       "      <th>away_team</th>\n",
       "      <th>home_score</th>\n",
       "      <th>away_score</th>\n",
       "      <th>tournament</th>\n",
       "      <th>city</th>\n",
       "      <th>country</th>\n",
       "      <th>neutral</th>\n",
       "    </tr>\n",
       "    <tr>\n",
       "      <th>date</th>\n",
       "      <th></th>\n",
       "      <th></th>\n",
       "      <th></th>\n",
       "      <th></th>\n",
       "      <th></th>\n",
       "      <th></th>\n",
       "      <th></th>\n",
       "      <th></th>\n",
       "    </tr>\n",
       "  </thead>\n",
       "  <tbody>\n",
       "    <tr>\n",
       "      <th>2018-10-12</th>\n",
       "      <td>Qatar</td>\n",
       "      <td>Ecuador</td>\n",
       "      <td>4.0</td>\n",
       "      <td>3.0</td>\n",
       "      <td>Friendly</td>\n",
       "      <td>Doha</td>\n",
       "      <td>Qatar</td>\n",
       "      <td>False</td>\n",
       "    </tr>\n",
       "    <tr>\n",
       "      <th>1996-02-25</th>\n",
       "      <td>Qatar</td>\n",
       "      <td>Ecuador</td>\n",
       "      <td>1.0</td>\n",
       "      <td>2.0</td>\n",
       "      <td>Friendly</td>\n",
       "      <td>Doha</td>\n",
       "      <td>Qatar</td>\n",
       "      <td>False</td>\n",
       "    </tr>\n",
       "    <tr>\n",
       "      <th>1996-02-18</th>\n",
       "      <td>Qatar</td>\n",
       "      <td>Ecuador</td>\n",
       "      <td>1.0</td>\n",
       "      <td>1.0</td>\n",
       "      <td>Friendly</td>\n",
       "      <td>Doha</td>\n",
       "      <td>Qatar</td>\n",
       "      <td>False</td>\n",
       "    </tr>\n",
       "  </tbody>\n",
       "</table>\n",
       "</div>"
      ],
      "text/plain": [
       "           home_team away_team  home_score  away_score tournament  city  \\\n",
       "date                                                                      \n",
       "2018-10-12     Qatar   Ecuador         4.0         3.0   Friendly  Doha   \n",
       "1996-02-25     Qatar   Ecuador         1.0         2.0   Friendly  Doha   \n",
       "1996-02-18     Qatar   Ecuador         1.0         1.0   Friendly  Doha   \n",
       "\n",
       "           country  neutral  \n",
       "date                         \n",
       "2018-10-12   Qatar    False  \n",
       "1996-02-25   Qatar    False  \n",
       "1996-02-18   Qatar    False  "
      ]
     },
     "execution_count": 93,
     "metadata": {},
     "output_type": "execute_result"
    }
   ],
   "source": [
    "hist_df"
   ]
  },
  {
   "cell_type": "code",
   "execution_count": 84,
   "metadata": {},
   "outputs": [
    {
     "data": {
      "text/plain": [
       "3"
      ]
     },
     "execution_count": 84,
     "metadata": {},
     "output_type": "execute_result"
    }
   ],
   "source": [
    "games"
   ]
  },
  {
   "cell_type": "code",
   "execution_count": 86,
   "metadata": {},
   "outputs": [
    {
     "data": {
      "text/plain": [
       "1"
      ]
     },
     "execution_count": 86,
     "metadata": {},
     "output_type": "execute_result"
    }
   ],
   "source": [
    "\n",
    "tt_wins"
   ]
  },
  {
   "cell_type": "code",
   "execution_count": 87,
   "metadata": {},
   "outputs": [
    {
     "data": {
      "text/plain": [
       "1"
      ]
     },
     "execution_count": 87,
     "metadata": {},
     "output_type": "execute_result"
    }
   ],
   "source": [
    "ties"
   ]
  },
  {
   "cell_type": "code",
   "execution_count": null,
   "metadata": {},
   "outputs": [],
   "source": []
  },
  {
   "cell_type": "code",
   "execution_count": 194,
   "metadata": {},
   "outputs": [
    {
     "data": {
      "text/plain": [
       "520000000"
      ]
     },
     "execution_count": 194,
     "metadata": {},
     "output_type": "execute_result"
    }
   ],
   "source": [
    "team.sort_values(by='ValueEUR', ascending =False).head(11)['ValueEUR'].sum()"
   ]
  },
  {
   "cell_type": "code",
   "execution_count": 202,
   "metadata": {},
   "outputs": [],
   "source": [
    "def get_team_fifa_info(team):\n",
    "    team_df = get_team_df(team)\n",
    "    top_player = team_df.sort_values(by='Overall', ascending =False).head(1)\n",
    "    avg_overall = round(team_df.head(16)['Overall'].mean(),2)\n",
    "    top_3_int_players = team_df.sort_values(by='IntReputation', ascending =False).head(3)\n",
    "    top16_value = \"${:,.2f}\".format(round(team_df.sort_values(by='ValueEUR', ascending =False).head(16)['ValueEUR'].sum(),2))\n",
    "\n",
    "    return top_player, avg_overall,top_3_int_players, top16_value\n",
    "    "
   ]
  },
  {
   "cell_type": "code",
   "execution_count": 203,
   "metadata": {},
   "outputs": [],
   "source": [
    "top_player, avg_overall,top_3_int_players, top16_value = get_team_fifa_info('Manchester United')"
   ]
  },
  {
   "cell_type": "code",
   "execution_count": 204,
   "metadata": {},
   "outputs": [
    {
     "data": {
      "text/plain": [
       "'$647,500,000.00'"
      ]
     },
     "execution_count": 204,
     "metadata": {},
     "output_type": "execute_result"
    }
   ],
   "source": [
    "top16_value"
   ]
  },
  {
   "cell_type": "code",
   "execution_count": 135,
   "metadata": {},
   "outputs": [],
   "source": [
    "def get_team_logo(team_name):\n",
    "    team_logo = players_df.loc[players_df['club_name'].str.contains(team_name)== True].head(1)['club_logo_url'].values[0]\n",
    "    return team_logo"
   ]
  },
  {
   "cell_type": "code",
   "execution_count": 233,
   "metadata": {},
   "outputs": [
    {
     "data": {
      "text/plain": [
       "0"
      ]
     },
     "execution_count": 233,
     "metadata": {},
     "output_type": "execute_result"
    }
   ],
   "source": [
    "len(players_df.loc[players_df['nationality_name'].str.contains('Qatar')== True])"
   ]
  },
  {
   "cell_type": "code",
   "execution_count": 236,
   "metadata": {},
   "outputs": [],
   "source": [
    "def get_team_logo(team_name, type):\n",
    "    if type =='club':\n",
    "        team_logo = players_df.loc[players_df['club_name'].str.contains(team_name)== True]\n",
    "        if len(team_logo)> 0:\n",
    "            team_logo = team_logo.head(1)['club_logo_url'].values[0]\n",
    "            return team_logo\n",
    "        else:\n",
    "            return 'Logo/Flag is not Available'\n",
    "        \n",
    "    else:\n",
    "        team_logo = players_df.loc[players_df['nationality_name'].str.contains(team_name)== True]\n",
    "        if len(team_logo)>0:\n",
    "            team_logo = team_logo.head(1)['nation_flag_url'].values[0]\n",
    "            return team_logo\n",
    "            \n",
    "        else:\n",
    "            return 'Logo/Flag is not Available'"
   ]
  },
  {
   "cell_type": "code",
   "execution_count": 235,
   "metadata": {},
   "outputs": [
    {
     "data": {
      "text/plain": [
       "'Not Available'"
      ]
     },
     "execution_count": 235,
     "metadata": {},
     "output_type": "execute_result"
    }
   ],
   "source": [
    "get_team_logo('Qatar','wc')"
   ]
  },
  {
   "cell_type": "code",
   "execution_count": 136,
   "metadata": {},
   "outputs": [
    {
     "data": {
      "text/plain": [
       "'https://cdn.sofifa.net/teams/10/60.png'"
      ]
     },
     "execution_count": 136,
     "metadata": {},
     "output_type": "execute_result"
    }
   ],
   "source": [
    "get_team_logo('Manchester City')"
   ]
  },
  {
   "cell_type": "code",
   "execution_count": 3,
   "metadata": {},
   "outputs": [],
   "source": [
    "def get_football_data(url_link, api_key):\n",
    "    sports_response = requests.get(\n",
    "            url_link, \n",
    "            headers={\n",
    "                'X-Auth-Token': api_key,        \n",
    "            }\n",
    "        )\n",
    "    if sports_response.status_code != 200:\n",
    "            return({'message':f'Failed to get sports data: status_code {sports_response.status_code}, response body {sports_response.text}'})\n",
    "\n",
    "    else:\n",
    "            all_odds = sports_response.json()\n",
    "            return(all_odds)"
   ]
  },
  {
   "cell_type": "code",
   "execution_count": 253,
   "metadata": {},
   "outputs": [
    {
     "data": {
      "text/plain": [
       "{'count': 0,\n",
       " 'filters': {'season': '2022', 'limit': 10},\n",
       " 'competition': {'id': 2000,\n",
       "  'name': 'FIFA World Cup',\n",
       "  'code': 'WC',\n",
       "  'type': 'CUP',\n",
       "  'emblem': 'https://crests.football-data.org/qatar.png'},\n",
       " 'season': {'id': 1382,\n",
       "  'startDate': '2022-11-20',\n",
       "  'endDate': '2022-12-18',\n",
       "  'currentMatchday': 1,\n",
       "  'winner': None},\n",
       " 'scorers': []}"
      ]
     },
     "execution_count": 253,
     "metadata": {},
     "output_type": "execute_result"
    }
   ],
   "source": [
    "get_football_data(WC_TOP_SCORERS_URL, FD_API_KEY)"
   ]
  },
  {
   "cell_type": "code",
   "execution_count": 239,
   "metadata": {},
   "outputs": [
    {
     "data": {
      "text/plain": [
       "{'filters': {'season': '2022'},\n",
       " 'area': {'id': 2267, 'name': 'World', 'code': 'INT', 'flag': None},\n",
       " 'competition': {'id': 2000,\n",
       "  'name': 'FIFA World Cup',\n",
       "  'code': 'WC',\n",
       "  'type': 'CUP',\n",
       "  'emblem': 'https://crests.football-data.org/qatar.png'},\n",
       " 'season': {'id': 1382,\n",
       "  'startDate': '2022-11-20',\n",
       "  'endDate': '2022-12-18',\n",
       "  'currentMatchday': 1,\n",
       "  'winner': None},\n",
       " 'standings': [{'stage': 'GROUP_STAGE',\n",
       "   'type': 'TOTAL',\n",
       "   'group': 'GROUP_A',\n",
       "   'table': [{'position': 1,\n",
       "     'team': {'id': 791,\n",
       "      'name': 'Ecuador',\n",
       "      'shortName': 'Ecuador',\n",
       "      'tla': 'ECU',\n",
       "      'crest': 'https://crests.football-data.org/791.svg'},\n",
       "     'playedGames': 0,\n",
       "     'form': None,\n",
       "     'won': 0,\n",
       "     'draw': 0,\n",
       "     'lost': 0,\n",
       "     'points': 0,\n",
       "     'goalsFor': 0,\n",
       "     'goalsAgainst': 0,\n",
       "     'goalDifference': 0},\n",
       "    {'position': 2,\n",
       "     'team': {'id': 8601,\n",
       "      'name': 'Netherlands',\n",
       "      'shortName': 'Netherlands',\n",
       "      'tla': 'NED',\n",
       "      'crest': 'https://crests.football-data.org/8601.svg'},\n",
       "     'playedGames': 0,\n",
       "     'form': None,\n",
       "     'won': 0,\n",
       "     'draw': 0,\n",
       "     'lost': 0,\n",
       "     'points': 0,\n",
       "     'goalsFor': 0,\n",
       "     'goalsAgainst': 0,\n",
       "     'goalDifference': 0},\n",
       "    {'position': 3,\n",
       "     'team': {'id': 8030,\n",
       "      'name': 'Qatar',\n",
       "      'shortName': 'Qatar',\n",
       "      'tla': 'QAT',\n",
       "      'crest': 'https://crests.football-data.org/8030.svg'},\n",
       "     'playedGames': 0,\n",
       "     'form': None,\n",
       "     'won': 0,\n",
       "     'draw': 0,\n",
       "     'lost': 0,\n",
       "     'points': 0,\n",
       "     'goalsFor': 0,\n",
       "     'goalsAgainst': 0,\n",
       "     'goalDifference': 0},\n",
       "    {'position': 4,\n",
       "     'team': {'id': 804,\n",
       "      'name': 'Senegal',\n",
       "      'shortName': 'Senegal',\n",
       "      'tla': 'SEN',\n",
       "      'crest': 'https://crests.football-data.org/senegal.svg'},\n",
       "     'playedGames': 0,\n",
       "     'form': None,\n",
       "     'won': 0,\n",
       "     'draw': 0,\n",
       "     'lost': 0,\n",
       "     'points': 0,\n",
       "     'goalsFor': 0,\n",
       "     'goalsAgainst': 0,\n",
       "     'goalDifference': 0}]},\n",
       "  {'stage': 'GROUP_STAGE',\n",
       "   'type': 'TOTAL',\n",
       "   'group': 'GROUP_B',\n",
       "   'table': [{'position': 1,\n",
       "     'team': {'id': 770,\n",
       "      'name': 'England',\n",
       "      'shortName': 'England',\n",
       "      'tla': 'ENG',\n",
       "      'crest': 'https://crests.football-data.org/770.svg'},\n",
       "     'playedGames': 0,\n",
       "     'form': None,\n",
       "     'won': 0,\n",
       "     'draw': 0,\n",
       "     'lost': 0,\n",
       "     'points': 0,\n",
       "     'goalsFor': 0,\n",
       "     'goalsAgainst': 0,\n",
       "     'goalDifference': 0},\n",
       "    {'position': 2,\n",
       "     'team': {'id': 840,\n",
       "      'name': 'Iran',\n",
       "      'shortName': 'Iran',\n",
       "      'tla': 'IRN',\n",
       "      'crest': 'https://crests.football-data.org/iran.svg'},\n",
       "     'playedGames': 0,\n",
       "     'form': None,\n",
       "     'won': 0,\n",
       "     'draw': 0,\n",
       "     'lost': 0,\n",
       "     'points': 0,\n",
       "     'goalsFor': 0,\n",
       "     'goalsAgainst': 0,\n",
       "     'goalDifference': 0},\n",
       "    {'position': 3,\n",
       "     'team': {'id': 771,\n",
       "      'name': 'United States',\n",
       "      'shortName': 'USA',\n",
       "      'tla': 'USA',\n",
       "      'crest': 'https://crests.football-data.org/usa.svg'},\n",
       "     'playedGames': 0,\n",
       "     'form': None,\n",
       "     'won': 0,\n",
       "     'draw': 0,\n",
       "     'lost': 0,\n",
       "     'points': 0,\n",
       "     'goalsFor': 0,\n",
       "     'goalsAgainst': 0,\n",
       "     'goalDifference': 0},\n",
       "    {'position': 4,\n",
       "     'team': {'id': 833,\n",
       "      'name': 'Wales',\n",
       "      'shortName': 'Wales',\n",
       "      'tla': 'WAL',\n",
       "      'crest': 'https://crests.football-data.org/833.svg'},\n",
       "     'playedGames': 0,\n",
       "     'form': None,\n",
       "     'won': 0,\n",
       "     'draw': 0,\n",
       "     'lost': 0,\n",
       "     'points': 0,\n",
       "     'goalsFor': 0,\n",
       "     'goalsAgainst': 0,\n",
       "     'goalDifference': 0}]},\n",
       "  {'stage': 'GROUP_STAGE',\n",
       "   'type': 'TOTAL',\n",
       "   'group': 'GROUP_C',\n",
       "   'table': [{'position': 1,\n",
       "     'team': {'id': 762,\n",
       "      'name': 'Argentina',\n",
       "      'shortName': 'Argentina',\n",
       "      'tla': 'ARG',\n",
       "      'crest': 'https://crests.football-data.org/762.png'},\n",
       "     'playedGames': 0,\n",
       "     'form': None,\n",
       "     'won': 0,\n",
       "     'draw': 0,\n",
       "     'lost': 0,\n",
       "     'points': 0,\n",
       "     'goalsFor': 0,\n",
       "     'goalsAgainst': 0,\n",
       "     'goalDifference': 0},\n",
       "    {'position': 2,\n",
       "     'team': {'id': 769,\n",
       "      'name': 'Mexico',\n",
       "      'shortName': 'Mexico',\n",
       "      'tla': 'MEX',\n",
       "      'crest': 'https://crests.football-data.org/769.svg'},\n",
       "     'playedGames': 0,\n",
       "     'form': None,\n",
       "     'won': 0,\n",
       "     'draw': 0,\n",
       "     'lost': 0,\n",
       "     'points': 0,\n",
       "     'goalsFor': 0,\n",
       "     'goalsAgainst': 0,\n",
       "     'goalDifference': 0},\n",
       "    {'position': 3,\n",
       "     'team': {'id': 794,\n",
       "      'name': 'Poland',\n",
       "      'shortName': 'Poland',\n",
       "      'tla': 'POL',\n",
       "      'crest': 'https://crests.football-data.org/794.svg'},\n",
       "     'playedGames': 0,\n",
       "     'form': None,\n",
       "     'won': 0,\n",
       "     'draw': 0,\n",
       "     'lost': 0,\n",
       "     'points': 0,\n",
       "     'goalsFor': 0,\n",
       "     'goalsAgainst': 0,\n",
       "     'goalDifference': 0},\n",
       "    {'position': 4,\n",
       "     'team': {'id': 801,\n",
       "      'name': 'Saudi Arabia',\n",
       "      'shortName': 'Saudi Arabia',\n",
       "      'tla': 'KSA',\n",
       "      'crest': 'https://crests.football-data.org/saudi_arabia.svg'},\n",
       "     'playedGames': 0,\n",
       "     'form': None,\n",
       "     'won': 0,\n",
       "     'draw': 0,\n",
       "     'lost': 0,\n",
       "     'points': 0,\n",
       "     'goalsFor': 0,\n",
       "     'goalsAgainst': 0,\n",
       "     'goalDifference': 0}]},\n",
       "  {'stage': 'GROUP_STAGE',\n",
       "   'type': 'TOTAL',\n",
       "   'group': 'GROUP_D',\n",
       "   'table': [{'position': 1,\n",
       "     'team': {'id': 779,\n",
       "      'name': 'Australia',\n",
       "      'shortName': 'Australia',\n",
       "      'tla': 'AUS',\n",
       "      'crest': 'https://crests.football-data.org/779.svg'},\n",
       "     'playedGames': 0,\n",
       "     'form': None,\n",
       "     'won': 0,\n",
       "     'draw': 0,\n",
       "     'lost': 0,\n",
       "     'points': 0,\n",
       "     'goalsFor': 0,\n",
       "     'goalsAgainst': 0,\n",
       "     'goalDifference': 0},\n",
       "    {'position': 2,\n",
       "     'team': {'id': 782,\n",
       "      'name': 'Denmark',\n",
       "      'shortName': 'Denmark',\n",
       "      'tla': 'DEN',\n",
       "      'crest': 'https://crests.football-data.org/782.svg'},\n",
       "     'playedGames': 0,\n",
       "     'form': None,\n",
       "     'won': 0,\n",
       "     'draw': 0,\n",
       "     'lost': 0,\n",
       "     'points': 0,\n",
       "     'goalsFor': 0,\n",
       "     'goalsAgainst': 0,\n",
       "     'goalDifference': 0},\n",
       "    {'position': 3,\n",
       "     'team': {'id': 773,\n",
       "      'name': 'France',\n",
       "      'shortName': 'France',\n",
       "      'tla': 'FRA',\n",
       "      'crest': 'https://crests.football-data.org/773.svg'},\n",
       "     'playedGames': 0,\n",
       "     'form': None,\n",
       "     'won': 0,\n",
       "     'draw': 0,\n",
       "     'lost': 0,\n",
       "     'points': 0,\n",
       "     'goalsFor': 0,\n",
       "     'goalsAgainst': 0,\n",
       "     'goalDifference': 0},\n",
       "    {'position': 4,\n",
       "     'team': {'id': 802,\n",
       "      'name': 'Tunisia',\n",
       "      'shortName': 'Tunisia',\n",
       "      'tla': 'TUN',\n",
       "      'crest': 'https://crests.football-data.org/tunisia.svg'},\n",
       "     'playedGames': 0,\n",
       "     'form': None,\n",
       "     'won': 0,\n",
       "     'draw': 0,\n",
       "     'lost': 0,\n",
       "     'points': 0,\n",
       "     'goalsFor': 0,\n",
       "     'goalsAgainst': 0,\n",
       "     'goalDifference': 0}]},\n",
       "  {'stage': 'GROUP_STAGE',\n",
       "   'type': 'TOTAL',\n",
       "   'group': 'GROUP_E',\n",
       "   'table': [{'position': 1,\n",
       "     'team': {'id': 793,\n",
       "      'name': 'Costa Rica',\n",
       "      'shortName': 'Costa Rica',\n",
       "      'tla': 'CRC',\n",
       "      'crest': 'https://crests.football-data.org/costa_rica.svg'},\n",
       "     'playedGames': 0,\n",
       "     'form': None,\n",
       "     'won': 0,\n",
       "     'draw': 0,\n",
       "     'lost': 0,\n",
       "     'points': 0,\n",
       "     'goalsFor': 0,\n",
       "     'goalsAgainst': 0,\n",
       "     'goalDifference': 0},\n",
       "    {'position': 2,\n",
       "     'team': {'id': 759,\n",
       "      'name': 'Germany',\n",
       "      'shortName': 'Germany',\n",
       "      'tla': 'GER',\n",
       "      'crest': 'https://crests.football-data.org/759.svg'},\n",
       "     'playedGames': 0,\n",
       "     'form': None,\n",
       "     'won': 0,\n",
       "     'draw': 0,\n",
       "     'lost': 0,\n",
       "     'points': 0,\n",
       "     'goalsFor': 0,\n",
       "     'goalsAgainst': 0,\n",
       "     'goalDifference': 0},\n",
       "    {'position': 3,\n",
       "     'team': {'id': 766,\n",
       "      'name': 'Japan',\n",
       "      'shortName': 'Japan',\n",
       "      'tla': 'JPN',\n",
       "      'crest': 'https://crests.football-data.org/766.svg'},\n",
       "     'playedGames': 0,\n",
       "     'form': None,\n",
       "     'won': 0,\n",
       "     'draw': 0,\n",
       "     'lost': 0,\n",
       "     'points': 0,\n",
       "     'goalsFor': 0,\n",
       "     'goalsAgainst': 0,\n",
       "     'goalDifference': 0},\n",
       "    {'position': 4,\n",
       "     'team': {'id': 760,\n",
       "      'name': 'Spain',\n",
       "      'shortName': 'Spain',\n",
       "      'tla': 'ESP',\n",
       "      'crest': 'https://crests.football-data.org/760.svg'},\n",
       "     'playedGames': 0,\n",
       "     'form': None,\n",
       "     'won': 0,\n",
       "     'draw': 0,\n",
       "     'lost': 0,\n",
       "     'points': 0,\n",
       "     'goalsFor': 0,\n",
       "     'goalsAgainst': 0,\n",
       "     'goalDifference': 0}]},\n",
       "  {'stage': 'GROUP_STAGE',\n",
       "   'type': 'TOTAL',\n",
       "   'group': 'GROUP_F',\n",
       "   'table': [{'position': 1,\n",
       "     'team': {'id': 805,\n",
       "      'name': 'Belgium',\n",
       "      'shortName': 'Belgium',\n",
       "      'tla': 'BEL',\n",
       "      'crest': 'https://crests.football-data.org/805.svg'},\n",
       "     'playedGames': 0,\n",
       "     'form': None,\n",
       "     'won': 0,\n",
       "     'draw': 0,\n",
       "     'lost': 0,\n",
       "     'points': 0,\n",
       "     'goalsFor': 0,\n",
       "     'goalsAgainst': 0,\n",
       "     'goalDifference': 0},\n",
       "    {'position': 2,\n",
       "     'team': {'id': 828,\n",
       "      'name': 'Canada',\n",
       "      'shortName': 'Canada',\n",
       "      'tla': 'CAN',\n",
       "      'crest': 'https://crests.football-data.org/canada.svg'},\n",
       "     'playedGames': 0,\n",
       "     'form': None,\n",
       "     'won': 0,\n",
       "     'draw': 0,\n",
       "     'lost': 0,\n",
       "     'points': 0,\n",
       "     'goalsFor': 0,\n",
       "     'goalsAgainst': 0,\n",
       "     'goalDifference': 0},\n",
       "    {'position': 3,\n",
       "     'team': {'id': 799,\n",
       "      'name': 'Croatia',\n",
       "      'shortName': 'Croatia',\n",
       "      'tla': 'CRO',\n",
       "      'crest': 'https://crests.football-data.org/799.svg'},\n",
       "     'playedGames': 0,\n",
       "     'form': None,\n",
       "     'won': 0,\n",
       "     'draw': 0,\n",
       "     'lost': 0,\n",
       "     'points': 0,\n",
       "     'goalsFor': 0,\n",
       "     'goalsAgainst': 0,\n",
       "     'goalDifference': 0},\n",
       "    {'position': 4,\n",
       "     'team': {'id': 815,\n",
       "      'name': 'Morocco',\n",
       "      'shortName': 'Morocco',\n",
       "      'tla': 'MAR',\n",
       "      'crest': 'https://crests.football-data.org/morocco.svg'},\n",
       "     'playedGames': 0,\n",
       "     'form': None,\n",
       "     'won': 0,\n",
       "     'draw': 0,\n",
       "     'lost': 0,\n",
       "     'points': 0,\n",
       "     'goalsFor': 0,\n",
       "     'goalsAgainst': 0,\n",
       "     'goalDifference': 0}]},\n",
       "  {'stage': 'GROUP_STAGE',\n",
       "   'type': 'TOTAL',\n",
       "   'group': 'GROUP_G',\n",
       "   'table': [{'position': 1,\n",
       "     'team': {'id': 764,\n",
       "      'name': 'Brazil',\n",
       "      'shortName': 'Brazil',\n",
       "      'tla': 'BRA',\n",
       "      'crest': 'https://crests.football-data.org/764.svg'},\n",
       "     'playedGames': 0,\n",
       "     'form': None,\n",
       "     'won': 0,\n",
       "     'draw': 0,\n",
       "     'lost': 0,\n",
       "     'points': 0,\n",
       "     'goalsFor': 0,\n",
       "     'goalsAgainst': 0,\n",
       "     'goalDifference': 0},\n",
       "    {'position': 2,\n",
       "     'team': {'id': 781,\n",
       "      'name': 'Cameroon',\n",
       "      'shortName': 'Cameroon',\n",
       "      'tla': 'CMR',\n",
       "      'crest': 'https://crests.football-data.org/cameroon.svg'},\n",
       "     'playedGames': 0,\n",
       "     'form': None,\n",
       "     'won': 0,\n",
       "     'draw': 0,\n",
       "     'lost': 0,\n",
       "     'points': 0,\n",
       "     'goalsFor': 0,\n",
       "     'goalsAgainst': 0,\n",
       "     'goalDifference': 0},\n",
       "    {'position': 3,\n",
       "     'team': {'id': 780,\n",
       "      'name': 'Serbia',\n",
       "      'shortName': 'Serbia',\n",
       "      'tla': 'SRB',\n",
       "      'crest': 'https://crests.football-data.org/780.svg'},\n",
       "     'playedGames': 0,\n",
       "     'form': None,\n",
       "     'won': 0,\n",
       "     'draw': 0,\n",
       "     'lost': 0,\n",
       "     'points': 0,\n",
       "     'goalsFor': 0,\n",
       "     'goalsAgainst': 0,\n",
       "     'goalDifference': 0},\n",
       "    {'position': 4,\n",
       "     'team': {'id': 788,\n",
       "      'name': 'Switzerland',\n",
       "      'shortName': 'Switzerland',\n",
       "      'tla': 'SUI',\n",
       "      'crest': 'https://crests.football-data.org/788.svg'},\n",
       "     'playedGames': 0,\n",
       "     'form': None,\n",
       "     'won': 0,\n",
       "     'draw': 0,\n",
       "     'lost': 0,\n",
       "     'points': 0,\n",
       "     'goalsFor': 0,\n",
       "     'goalsAgainst': 0,\n",
       "     'goalDifference': 0}]},\n",
       "  {'stage': 'GROUP_STAGE',\n",
       "   'type': 'TOTAL',\n",
       "   'group': 'GROUP_H',\n",
       "   'table': [{'position': 1,\n",
       "     'team': {'id': 763,\n",
       "      'name': 'Ghana',\n",
       "      'shortName': 'Ghana',\n",
       "      'tla': 'GHA',\n",
       "      'crest': 'https://crests.football-data.org/ghana.svg'},\n",
       "     'playedGames': 0,\n",
       "     'form': None,\n",
       "     'won': 0,\n",
       "     'draw': 0,\n",
       "     'lost': 0,\n",
       "     'points': 0,\n",
       "     'goalsFor': 0,\n",
       "     'goalsAgainst': 0,\n",
       "     'goalDifference': 0},\n",
       "    {'position': 2,\n",
       "     'team': {'id': 765,\n",
       "      'name': 'Portugal',\n",
       "      'shortName': 'Portugal',\n",
       "      'tla': 'POR',\n",
       "      'crest': 'https://crests.football-data.org/765.svg'},\n",
       "     'playedGames': 0,\n",
       "     'form': None,\n",
       "     'won': 0,\n",
       "     'draw': 0,\n",
       "     'lost': 0,\n",
       "     'points': 0,\n",
       "     'goalsFor': 0,\n",
       "     'goalsAgainst': 0,\n",
       "     'goalDifference': 0},\n",
       "    {'position': 3,\n",
       "     'team': {'id': 772,\n",
       "      'name': 'South Korea',\n",
       "      'shortName': 'Korea Republic',\n",
       "      'tla': 'KOR',\n",
       "      'crest': 'https://crests.football-data.org/772.png'},\n",
       "     'playedGames': 0,\n",
       "     'form': None,\n",
       "     'won': 0,\n",
       "     'draw': 0,\n",
       "     'lost': 0,\n",
       "     'points': 0,\n",
       "     'goalsFor': 0,\n",
       "     'goalsAgainst': 0,\n",
       "     'goalDifference': 0},\n",
       "    {'position': 4,\n",
       "     'team': {'id': 758,\n",
       "      'name': 'Uruguay',\n",
       "      'shortName': 'Uruguay',\n",
       "      'tla': 'URU',\n",
       "      'crest': 'https://crests.football-data.org/758.svg'},\n",
       "     'playedGames': 0,\n",
       "     'form': None,\n",
       "     'won': 0,\n",
       "     'draw': 0,\n",
       "     'lost': 0,\n",
       "     'points': 0,\n",
       "     'goalsFor': 0,\n",
       "     'goalsAgainst': 0,\n",
       "     'goalDifference': 0}]}]}"
      ]
     },
     "execution_count": 239,
     "metadata": {},
     "output_type": "execute_result"
    }
   ],
   "source": [
    "get_football_data(WC_STANDINGS_URL, FD_API_KEY)"
   ]
  },
  {
   "cell_type": "code",
   "execution_count": 59,
   "metadata": {},
   "outputs": [],
   "source": [
    "top_epl_scorers = get_football_data(WC_STANDINGS_URL, FD_API_KEY)\n",
    "players_top_ten=[]\n",
    "teams_tops_scorers =[]\n",
    "number_goals =[]\n",
    "number_assists=[]\n",
    "for player in top_epl_scorers['scorers']:\n",
    "    print(player['assists'])\n",
    "    players_top_ten.append((player['player']['name']))\n",
    "    teams_tops_scorers.append((player['team']['name']))\n",
    "    number_goals.append(player['goals'])\n",
    "    number_assists.append(player['assists'])\n",
    "dic_top_epl_scorers = {'Player Name': players_top_ten,'Team': teams_tops_scorers, 'Goals':number_goals,'Assists':number_assists}\n",
    "top_epl_scorers_df = pd.DataFrame(dic_top_epl_scorers)\n",
    "top_epl_scorers_df.set_index('Player Name')"
   ]
  },
  {
   "cell_type": "code",
   "execution_count": 84,
   "metadata": {},
   "outputs": [],
   "source": [
    "FD_EPL_STANDINGS_URL=\"https://api.football-data.org/v4/competitions/PL/standings\""
   ]
  },
  {
   "cell_type": "code",
   "execution_count": null,
   "metadata": {},
   "outputs": [],
   "source": [
    "def get_epl_standings_df():\n",
    "    epl_standings = get_football_data(FD_EPL_STANDINGS_URL, FD_API_KEY)\n",
    "    team_names =[]\n",
    "    team_points=[]\n",
    "    team_played_count =[]\n",
    "    team_form =[]\n",
    "    team_goal_dif =[]\n",
    "    for position in epl_standings['standings'][0]['table']:\n",
    "        team_names.append(position['team']['name'])\n",
    "        team_played_count.append(position['playedGames'])\n",
    "        team_points.append(position['points'])\n",
    "        team_form.append(position['form'])\n",
    "        team_goal_dif.append(position['goalDifference'])\n",
    "    dic_epl_table ={'Team':team_names,'Points':team_points,'Games Played':team_played_count,'Form':team_form, 'Goal Difference':team_goal_dif}\n",
    "    epl_table_df = pd.DataFrame(dic_epl_table)\n",
    "    return epl_table_df"
   ]
  },
  {
   "cell_type": "code",
   "execution_count": 250,
   "metadata": {},
   "outputs": [],
   "source": [
    "def get_wc_standings_df():\n",
    "    wc_standings = get_football_data(WC_STANDINGS_URL, FD_API_KEY)\n",
    "    team_names =[]\n",
    "    team_points=[]\n",
    "    team_played_count =[]\n",
    "    team_form =[]\n",
    "    team_goal_dif =[]\n",
    "    for position in wc_standings['standings']:\n",
    "        # print(position)\n",
    "        for table in position['table']:\n",
    "            # print(table)\n",
    "\n",
    "            team_names.append(table['team']['name'])\n",
    "            team_played_count.append(table['playedGames'])\n",
    "            team_points.append(table['points'])\n",
    "            team_form.append(table['form'])\n",
    "            team_goal_dif.append(table['goalDifference'])\n",
    "            # print(team_names)\n",
    "    dic_wc_table ={'Team':team_names,'Points':team_points,'Games Played':team_played_count,'Form':team_form, 'Goal Difference':team_goal_dif}\n",
    "    wc_table_df = pd.DataFrame(dic_wc_table)\n",
    "    return wc_table_df"
   ]
  },
  {
   "cell_type": "code",
   "execution_count": 205,
   "metadata": {},
   "outputs": [],
   "source": [
    "ODDS_API_KEY = 'test'\n",
    "WC_ODDS_URL = 'test'"
   ]
  },
  {
   "cell_type": "code",
   "execution_count": 211,
   "metadata": {},
   "outputs": [],
   "source": [
    "def get_WC_odds_data(wc_odds_url, api_key):\n",
    "    '''\n",
    "        With a valid API key, this function retrieves the any live games as well as the next 8 upcoming games across \n",
    "        the English Premier League. (Soccer ;)\n",
    "    '''\n",
    "    sports_response = requests.get(\n",
    "        wc_odds_url, \n",
    "        params={\n",
    "            'api_key': api_key,        \n",
    "        }\n",
    "    )\n",
    "\n",
    "    if sports_response.status_code != 200:\n",
    "        return {'message':f'Failed to get sports data: status_code {sports_response.status_code}, response body {sports_response.text}'}\n",
    "\n",
    "    else:\n",
    "        all_odds = sports_response.json()\n",
    "        wc_odds =[]\n",
    "\n",
    "        for value in all_odds:\n",
    "\n",
    "            wc_odds.append({'home_team': value['home_team'],\n",
    "                'away_team': value['away_team'],\n",
    "                'match_start':value['commence_time'],\n",
    "                'win_home_team': value['bookmakers'][0]['markets'][0]['outcomes'][0]['price'],\n",
    "                'win_away_team':value['bookmakers'][0]['markets'][0]['outcomes'][1]['price'],\n",
    "                'tie':value['bookmakers'][0]['markets'][0]['outcomes'][2]['price'],\n",
    "            })\n",
    "            \n",
    "        odds_df = pd.DataFrame(wc_odds)\n",
    "\n",
    "        odds_df['match_start'] = pd.to_datetime(odds_df['match_start'])\n",
    "        odds_df['match_start'] = odds_df['match_start'].dt.tz_convert('EST')\n",
    "        odds_df.rename(columns={\"home_team\":\"Home Team\", \"away_team\":\"Away Team\",\"match_start\": \"Game Time\",\"win_home_team\":\"Home Team Win\",\n",
    "                \"win_away_team\":\"Away Team Win\",\"tie\":\"Tie\"}, inplace=True)\n",
    "        return odds_df"
   ]
  },
  {
   "cell_type": "code",
   "execution_count": 7,
   "metadata": {},
   "outputs": [],
   "source": [
    "top_wc_scorers = get_football_data(WC_TOP_SCORERS_URL, FD_API_KEY)\n"
   ]
  },
  {
   "cell_type": "code",
   "execution_count": 8,
   "metadata": {},
   "outputs": [
    {
     "data": {
      "text/plain": [
       "{'count': 0,\n",
       " 'filters': {'season': '2022', 'limit': 10},\n",
       " 'competition': {'id': 2000,\n",
       "  'name': 'FIFA World Cup',\n",
       "  'code': 'WC',\n",
       "  'type': 'CUP',\n",
       "  'emblem': 'https://crests.football-data.org/qatar.png'},\n",
       " 'season': {'id': 1382,\n",
       "  'startDate': '2022-11-20',\n",
       "  'endDate': '2022-12-18',\n",
       "  'currentMatchday': 1,\n",
       "  'winner': None},\n",
       " 'scorers': []}"
      ]
     },
     "execution_count": 8,
     "metadata": {},
     "output_type": "execute_result"
    }
   ],
   "source": [
    "top_wc_scorers"
   ]
  },
  {
   "cell_type": "code",
   "execution_count": 9,
   "metadata": {},
   "outputs": [
    {
     "data": {
      "text/html": [
       "<div>\n",
       "<style scoped>\n",
       "    .dataframe tbody tr th:only-of-type {\n",
       "        vertical-align: middle;\n",
       "    }\n",
       "\n",
       "    .dataframe tbody tr th {\n",
       "        vertical-align: top;\n",
       "    }\n",
       "\n",
       "    .dataframe thead th {\n",
       "        text-align: right;\n",
       "    }\n",
       "</style>\n",
       "<table border=\"1\" class=\"dataframe\">\n",
       "  <thead>\n",
       "    <tr style=\"text-align: right;\">\n",
       "      <th></th>\n",
       "      <th>Team</th>\n",
       "      <th>Goals</th>\n",
       "      <th>Assists</th>\n",
       "    </tr>\n",
       "    <tr>\n",
       "      <th>Player Name</th>\n",
       "      <th></th>\n",
       "      <th></th>\n",
       "      <th></th>\n",
       "    </tr>\n",
       "  </thead>\n",
       "  <tbody>\n",
       "  </tbody>\n",
       "</table>\n",
       "</div>"
      ],
      "text/plain": [
       "Empty DataFrame\n",
       "Columns: [Team, Goals, Assists]\n",
       "Index: []"
      ]
     },
     "execution_count": 9,
     "metadata": {},
     "output_type": "execute_result"
    }
   ],
   "source": [
    "players_top_ten=[]\n",
    "teams_tops_scorers =[]\n",
    "number_goals =[]\n",
    "number_assists=[]\n",
    "for player in top_wc_scorers['scorers']:\n",
    "    print(player['assists'])\n",
    "    players_top_ten.append((player['player']['name']))\n",
    "    teams_tops_scorers.append((player['team']['name']))\n",
    "    number_goals.append(player['goals'])\n",
    "    number_assists.append(player['assists'])\n",
    "dic_top_wc_scorers = {'Player Name': players_top_ten,'Team': teams_tops_scorers, 'Goals':number_goals,'Assists':number_assists}\n",
    "top_wc_scorers_df = pd.DataFrame(dic_top_wc_scorers)\n",
    "top_wc_scorers_df.set_index('Player Name')"
   ]
  },
  {
   "cell_type": "code",
   "execution_count": 10,
   "metadata": {},
   "outputs": [
    {
     "data": {
      "text/plain": [
       "5"
      ]
     },
     "execution_count": 10,
     "metadata": {},
     "output_type": "execute_result"
    }
   ],
   "source": [
    "len(top_wc_scorers)"
   ]
  },
  {
   "cell_type": "code",
   "execution_count": 11,
   "metadata": {},
   "outputs": [],
   "source": [
    "def get_wc_top_scores():\n",
    "    top_wc_scorers = get_football_data(WC_TOP_SCORERS_URL, FD_API_KEY)\n",
    "    players_top_ten=[]\n",
    "    teams_tops_scorers =[]\n",
    "    number_goals =[]\n",
    "    number_assists=[]\n",
    "    for player in top_wc_scorers['scorers']:\n",
    "        print(player['assists'])\n",
    "        players_top_ten.append((player['player']['name']))\n",
    "        teams_tops_scorers.append((player['team']['name']))\n",
    "        number_goals.append(player['goals'])\n",
    "        number_assists.append(player['assists'])\n",
    "    dic_top_wc_scorers = {'Player Name': players_top_ten,'Team': teams_tops_scorers, 'Goals':number_goals,'Assists':number_assists}\n",
    "    top_wc_scorers_df = pd.DataFrame(dic_top_wc_scorers)\n",
    "    top_wc_scorers_df.set_index('Player Name')\n",
    "\n",
    "    return top_wc_scorers"
   ]
  },
  {
   "cell_type": "code",
   "execution_count": null,
   "metadata": {},
   "outputs": [],
   "source": []
  }
 ],
 "metadata": {
  "kernelspec": {
   "display_name": "Python 3.10.2 ('env': venv)",
   "language": "python",
   "name": "python3"
  },
  "language_info": {
   "codemirror_mode": {
    "name": "ipython",
    "version": 3
   },
   "file_extension": ".py",
   "mimetype": "text/x-python",
   "name": "python",
   "nbconvert_exporter": "python",
   "pygments_lexer": "ipython3",
   "version": "3.10.2"
  },
  "orig_nbformat": 4,
  "vscode": {
   "interpreter": {
    "hash": "0ec061fab6744220b6acd3d3d7b14abdf930d271b7dd1f55c1ad1638ce38c62a"
   }
  }
 },
 "nbformat": 4,
 "nbformat_minor": 2
}
